{
 "cells": [
  {
   "cell_type": "code",
   "execution_count": 1,
   "metadata": {},
   "outputs": [],
   "source": [
    "! mkdir src\n",
    "! mkdir input\n",
    "! mkdir models"
   ]
  },
  {
   "cell_type": "code",
   "execution_count": 4,
   "metadata": {},
   "outputs": [],
   "source": [
    "#mv Загрузки/kaggle.json ~/.kaggle/kaggle.json\n",
    "! chmod 600 /home/cerdgio/.kaggle/kaggle.json"
   ]
  },
  {
   "cell_type": "code",
   "execution_count": 8,
   "metadata": {},
   "outputs": [],
   "source": [
    "files = ['periods_test.csv.zip',\n",
    "'periods_train.csv.zip',\n",
    "'test.csv.zip',\n",
    "'test_active.csv.zip',\n",
    "'train.csv.zip',\n",
    "'train_active.csv.zip']\n",
    "# 'test_jpg.zip',\n",
    "#train_jpg.zip\n",
    "#train_jpg_0.zip\n",
    "#train_jpg_1.zip\n",
    "#train_jpg_2.zip\n",
    "#train_jpg_3.zip\n",
    "#train_jpg_4.zip"
   ]
  },
  {
   "cell_type": "code",
   "execution_count": 10,
   "metadata": {},
   "outputs": [
    {
     "name": "stdout",
     "output_type": "stream",
     "text": [
      "Downloading periods_test.csv.zip to /home/cerdgio/Avito_temp/input\n",
      "100%|███████████████████████████████████████▉| 136M/136M [00:25<00:00, 5.52MB/s]\n",
      "100%|████████████████████████████████████████| 136M/136M [00:25<00:00, 5.67MB/s]\n",
      "Downloading periods_train.csv.zip to /home/cerdgio/Avito_temp/input\n",
      "100%|███████████████████████████████████████▉| 170M/170M [00:31<00:00, 5.59MB/s]\n",
      "100%|████████████████████████████████████████| 170M/170M [00:31<00:00, 5.63MB/s]\n",
      "Downloading test.csv.zip to /home/cerdgio/Avito_temp/input\n",
      "100%|███████████████████████████████████████▉| 107M/107M [00:22<00:00, 5.84MB/s]\n",
      "100%|████████████████████████████████████████| 107M/107M [00:22<00:00, 4.99MB/s]\n",
      "Downloading test_active.csv.zip to /home/cerdgio/Avito_temp/input\n",
      "100%|█████████████████████████████████████▉| 2.33G/2.33G [07:14<00:00, 6.14MB/s]\n",
      "100%|██████████████████████████████████████| 2.33G/2.33G [07:14<00:00, 5.76MB/s]\n",
      "Downloading train.csv.zip to /home/cerdgio/Avito_temp/input\n",
      "100%|████████████████████████████████████████| 308M/308M [00:56<00:00, 4.46MB/s]\n",
      "\n",
      "Downloading train_active.csv.zip to /home/cerdgio/Avito_temp/input\n",
      "100%|█████████████████████████████████████▉| 2.52G/2.52G [08:03<00:00, 4.49MB/s]\n",
      "100%|██████████████████████████████████████| 2.52G/2.52G [08:03<00:00, 5.60MB/s]\n"
     ]
    }
   ],
   "source": [
    "for file in files:\n",
    "    ! kaggle competitions download --force -c avito-demand-prediction -p /home/cerdgio/Avito_temp/input/ -f $file"
   ]
  },
  {
   "cell_type": "code",
   "execution_count": 11,
   "metadata": {},
   "outputs": [
    {
     "name": "stdout",
     "output_type": "stream",
     "text": [
      "Archive:  ./input/periods_test.csv.zip\n",
      "  inflating: ./input/periods_test.csv  \n",
      "Archive:  ./input/periods_train.csv.zip\n",
      "  inflating: ./input/periods_train.csv  \n",
      "Archive:  ./input/test.csv.zip\n",
      "  inflating: ./input/test.csv        \n",
      "Archive:  ./input/test_active.csv.zip\n",
      "  inflating: ./input/test_active.csv  \n",
      "Archive:  ./input/train.csv.zip\n",
      "  inflating: ./input/train.csv       \n",
      "Archive:  ./input/train_active.csv.zip\n",
      "  inflating: ./input/train_active.csv  \n"
     ]
    }
   ],
   "source": [
    "for file in files:\n",
    "    ! unzip ./input/$file -d ./input/"
   ]
  },
  {
   "cell_type": "code",
   "execution_count": null,
   "metadata": {},
   "outputs": [],
   "source": []
  }
 ],
 "metadata": {
  "kernelspec": {
   "display_name": "Python 3",
   "language": "python",
   "name": "python3"
  },
  "language_info": {
   "codemirror_mode": {
    "name": "ipython",
    "version": 3
   },
   "file_extension": ".py",
   "mimetype": "text/x-python",
   "name": "python",
   "nbconvert_exporter": "python",
   "pygments_lexer": "ipython3",
   "version": "3.6.5"
  }
 },
 "nbformat": 4,
 "nbformat_minor": 2
}
